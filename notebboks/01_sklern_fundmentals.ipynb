{
 "cells": [
  {
   "cell_type": "markdown",
   "metadata": {},
   "source": [
    "\n",
    "# Wprowadzenie do Scikit-Learn\n",
    "\n",
    "**Scikit-Learn** to jedna z najpopularniejszych bibliotek do uczenia maszynowego w języku Python. Jest to otwartoźródłowy pakiet, który oferuje łatwe w użyciu narzędzia do budowy i testowania modeli uczenia maszynowego, z naciskiem na klasyfikację, regresję, klasteryzację i przetwarzanie danych. Scikit-Learn bazuje na takich bibliotekach jak **NumPy**, **SciPy** i **matplotlib**, co pozwala na efektywne przetwarzanie danych i wizualizację wyników.\n",
    "\n",
    "## Główne Zalety Scikit-Learn\n",
    "1. **Łatwość Użycia**: Prosty i spójny interfejs API, który sprawia, że uczenie maszynowe jest przystępne nawet dla osób, które dopiero zaczynają.\n",
    "2. **Bogaty Zestaw Algorytmów**: Scikit-Learn oferuje szeroką gamę algorytmów uczenia nadzorowanego i nienadzorowanego, w tym klasyfikację, regresję, redukcję wymiarowości, oraz metody klasteryzacji.\n",
    "3. **Dobra Dokumentacja**: Pakiet posiada bardzo dobrą dokumentację oraz wiele przykładów, co ułatwia naukę i szybkie wdrażanie.\n",
    "4. **Skalowalność**: Idealny do prototypowania, z łatwością pozwala przeskalować modele na większe zbiory danych za pomocą innych narzędzi, takich jak TensorFlow czy PyTorch.\n",
    "\n",
    "Scikit-Learn jest idealnym narzędziem zarówno do nauki, jak i do szybkiego prototypowania modeli uczenia maszynowego. Dzięki intuicyjnemu interfejsowi, szerokiemu wachlarzowi funkcji i dobrej dokumentacji, jest to jeden z pierwszych wyborów dla każdego, kto zaczyna przygodę z uczeniem maszynowym w Pythonie oraz profesjonalistów wdrazających rozwiązania prdodukcyjne.\n",
    "\n",
    "## Materiały uzupełniające\n",
    "\n",
    "- **Dokumentacja scikit-learn** : https://scikit-learn.org/stable/\n",
    "- **Kurs Supervised Learning with Scikit-Learn na DC** https://app.datacamp.com/learn/courses/supervised-learning-with-scikit-learn\n"
   ]
  },
  {
   "cell_type": "markdown",
   "metadata": {},
   "source": [
    "## Przygotowanie środowiska\n",
    "\n",
    "Instalacja najnowszych wersji pakietów (na dzień 25-10-2024)"
   ]
  },
  {
   "cell_type": "code",
   "execution_count": null,
   "metadata": {},
   "outputs": [],
   "source": [
    "%pip install scikit-learn==1.5.2\n",
    "%pip install ydata-profiling==4.11.0\n",
    "%pip install ucimlrepo==0.0.7"
   ]
  },
  {
   "cell_type": "markdown",
   "metadata": {},
   "source": [
    "Po zainstalowaniu pakietów naley zrestartować środowisko -> Ikona restart"
   ]
  },
  {
   "cell_type": "code",
   "execution_count": null,
   "metadata": {},
   "outputs": [],
   "source": [
    "import pandas as pd\n",
    "from ucimlrepo import fetch_ucirepo\n",
    "from ydata_profiling import ProfileReport"
   ]
  },
  {
   "cell_type": "markdown",
   "metadata": {},
   "source": [
    "## Pobieranie danych\n",
    "\n",
    "**Bank Marketing Data** \n",
    "Zbiór danych używany do przewidywania, czy klient banku skorzysta z oferty (subskrypcji) na podstawie takich cech, jak wiek, wykształcenie, zatrudnienie, kontakt z bankiem itp.\n",
    "\n",
    "Zródło danych i metadane: https://archive.ics.uci.edu/dataset/222/bank+marketing"
   ]
  },
  {
   "cell_type": "code",
   "execution_count": 3,
   "metadata": {},
   "outputs": [],
   "source": [
    "bank_marketing = fetch_ucirepo(id=222)\n",
    "\n",
    "features = bank_marketing.data.features\n",
    "target = bank_marketing.data.targets"
   ]
  },
  {
   "cell_type": "code",
   "execution_count": null,
   "metadata": {},
   "outputs": [],
   "source": [
    "# podejzyj zaimportowaną datra frame\n",
    "\n",
    "features"
   ]
  },
  {
   "cell_type": "code",
   "execution_count": 5,
   "metadata": {},
   "outputs": [],
   "source": [
    "# za pomocą dostępnych funkcji lub metod bibloteki pandas określ czy, ewentualnie które kolumny mają brakujące wartości\n",
    "\n",
    "# Twój kod wykonaj ponizej:\n",
    "\n"
   ]
  },
  {
   "cell_type": "code",
   "execution_count": null,
   "metadata": {},
   "outputs": [],
   "source": [
    "# sprawdź czy typy kolumn po imporcie zgadzają się z zadeklarowanymi w dokumentacji datasetu\n",
    "# jeeli, któraś kolumna nie jest zaimportowana jako poprawny typ moe uyć metody astype() na obiekcie pd.DataFrame aby zmienić typ danych\n",
    "\n",
    "# Twój kod wykonaj ponizej:\n",
    "\n",
    "features.dtypes"
   ]
  },
  {
   "cell_type": "code",
   "execution_count": 7,
   "metadata": {},
   "outputs": [],
   "source": [
    "# określ rozkłąd zmiennej celu 'targets' (jaki % kleintów skorzysta z subskrybcji)"
   ]
  },
  {
   "cell_type": "markdown",
   "metadata": {},
   "source": [
    "## Eksploracyjna Analiza Danych z uyciem ydata-profiling"
   ]
  },
  {
   "cell_type": "markdown",
   "metadata": {},
   "source": [
    "### Pakiet ydata-profiling\n",
    "\n",
    "Pakiet **ydata-profiling** (wcześniej znany jako **pandas-profiling**) jest narzędziem służącym do szybkiego tworzenia kompleksowych raportów analizy eksploracyjnej danych (Exploratory Data Analysis, EDA) z wykorzystaniem danych przechowywanych w obiektach `pandas DataFrame`. Pakiet ten pozwala na automatyczne generowanie interaktywnego raportu HTML, który zawiera szczegółowe informacje o każdym atrybucie zbioru danych.\n",
    "\n",
    "**ydata-profiling** oferuje m.in.:\n",
    "1. **Podstawowe statystyki** – Oblicza podstawowe statystyki, takie jak średnia, mediana, min, max, wariancja, odchylenie standardowe itp. dla każdej kolumny.\n",
    "2. **Rozkład wartości** – Pokazuje rozkład wartości liczbowych i kategorycznych w każdej kolumnie, w tym histogramy i wykresy częstości.\n",
    "3. **Braki danych** – Wykrywa i raportuje brakujące wartości w kolumnach oraz pokazuje ich rozkład.\n",
    "4. **Korelacje** – Analizuje korelacje między kolumnami, dostarczając informacje na temat możliwych zależności.\n",
    "5. **Wykrywanie nieprawidłowości** – Identyfikuje potencjalne problemy, takie jak wartości odstające (outliers), duplikaty, oraz nietypowe wartości.\n",
    "6. **Podsumowanie danych** – Zawiera ogólną analizę i podsumowanie zbioru danych, co pozwala szybko zrozumieć strukturę i właściwości danych.\n",
    "\n",
    "Użycie **ydata-profiling** jest bardzo proste, wystarczy kilka wierszy kodu, aby wygenerować raport z obiektu `DataFrame`:\n",
    "\n",
    "```python\n",
    "import pandas as pd\n",
    "from ydata_profiling import ProfileReport\n",
    "\n",
    "# Wczytanie danych\n",
    "df = pd.read_csv('data.csv')\n",
    "\n",
    "# Tworzenie raportu\n",
    "profile = ProfileReport(df, title=\"Raport Profilowania Danych\")\n",
    "profile.to_file(\"raport.html\")\n",
    "```"
   ]
  },
  {
   "cell_type": "code",
   "execution_count": 8,
   "metadata": {},
   "outputs": [],
   "source": [
    "# Stwórz nową ramkę danych zawierającą wszytskie cechy i zmienną celu\n",
    "\n",
    "\n",
    "\n",
    "\n",
    "\n",
    "# Stwórz raort i wyeksportuj go do pliku. Przeanalizuj wyniki."
   ]
  },
  {
   "cell_type": "markdown",
   "metadata": {},
   "source": [
    "# Preprocessing danych w scikit-learn"
   ]
  }
 ],
 "metadata": {
  "kernelspec": {
   "display_name": "wait-proj-template",
   "language": "python",
   "name": "python3"
  },
  "language_info": {
   "codemirror_mode": {
    "name": "ipython",
    "version": 3
   },
   "file_extension": ".py",
   "mimetype": "text/x-python",
   "name": "python",
   "nbconvert_exporter": "python",
   "pygments_lexer": "ipython3",
   "version": "3.11.9"
  }
 },
 "nbformat": 4,
 "nbformat_minor": 2
}
