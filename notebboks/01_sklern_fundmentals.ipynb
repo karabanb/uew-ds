{
 "cells": [
  {
   "cell_type": "markdown",
   "metadata": {},
   "source": [
    "## Przygotowanie środowiska\n",
    "\n",
    "Instalacja najnowszej wersji pakietu scikit-learn (na dzień 25-10-2024)"
   ]
  },
  {
   "cell_type": "code",
   "execution_count": null,
   "metadata": {},
   "outputs": [],
   "source": [
    "%pip install scikit-learn==1.5.2\n",
    "%pip install ydata-profiling==4.11.0\n",
    "%pip install ucimlrepo==0.0.7"
   ]
  },
  {
   "cell_type": "markdown",
   "metadata": {},
   "source": [
    "Po zainstalowaniu pakietów naley zrestartować środowisko -> Ikona restart"
   ]
  },
  {
   "cell_type": "code",
   "execution_count": null,
   "metadata": {},
   "outputs": [],
   "source": [
    "import pandas as pd\n",
    "from ucimlrepo import fetch_ucirepo\n",
    "from ydata_profiling import ProfileReport"
   ]
  },
  {
   "cell_type": "markdown",
   "metadata": {},
   "source": [
    "## Pobieranie danych\n",
    "\n",
    "**Bank Marketing Data** \n",
    "Zbiór danych używany do przewidywania, czy klient banku skorzysta z oferty (subskrypcji) na podstawie takich cech, jak wiek, wykształcenie, zatrudnienie, kontakt z bankiem itp.\n",
    "\n",
    "Zródło danych i metadane: https://archive.ics.uci.edu/dataset/222/bank+marketing"
   ]
  },
  {
   "cell_type": "code",
   "execution_count": 12,
   "metadata": {},
   "outputs": [],
   "source": [
    "bank_marketing = fetch_ucirepo(id=222)\n",
    "\n",
    "features = bank_marketing.data.features\n",
    "target = bank_marketing.data.targets"
   ]
  },
  {
   "cell_type": "code",
   "execution_count": null,
   "metadata": {},
   "outputs": [],
   "source": [
    "# podejzyj zaimportowaną datra frame\n",
    "\n",
    "features"
   ]
  },
  {
   "cell_type": "code",
   "execution_count": null,
   "metadata": {},
   "outputs": [],
   "source": [
    "# za pomocą dostępnych funkcji lub metod bibloteki pandas określ czy, ewentualnie które kolumny mają brakujące wartości\n",
    "\n",
    "# Twój kod wykonaj ponizej:\n",
    "\n"
   ]
  },
  {
   "cell_type": "code",
   "execution_count": null,
   "metadata": {},
   "outputs": [],
   "source": [
    "# sprawdź czy typy kolumn po imporcie zgadzają się z zadeklarowanymi w dokumentacji datasetu\n",
    "# jeeli, któraś kolumna nie jest zaimportowana jako poprawny typ moe uyć metody astype() na obiekcie pd.DataFrame aby zmienić typ danych\n",
    "\n",
    "# Twój kod wykonaj ponizej:\n",
    "\n",
    "features.dtypes"
   ]
  },
  {
   "cell_type": "code",
   "execution_count": null,
   "metadata": {},
   "outputs": [],
   "source": [
    "# określ rozkłąd zmiennej celu 'targets' (jaki % kleintów skorzysta z subskrybcji)"
   ]
  },
  {
   "cell_type": "markdown",
   "metadata": {},
   "source": [
    "## Eksploracyjna Analiza Danych z uyciem ydata-profiling"
   ]
  },
  {
   "cell_type": "markdown",
   "metadata": {},
   "source": [
    "### Pakiet ydata-profiling\n",
    "\n",
    "Pakiet **ydata-profiling** (wcześniej znany jako **pandas-profiling**) jest narzędziem służącym do szybkiego tworzenia kompleksowych raportów analizy eksploracyjnej danych (Exploratory Data Analysis, EDA) z wykorzystaniem danych przechowywanych w obiektach `pandas DataFrame`. Pakiet ten pozwala na automatyczne generowanie interaktywnego raportu HTML, który zawiera szczegółowe informacje o każdym atrybucie zbioru danych.\n",
    "\n",
    "**ydata-profiling** oferuje m.in.:\n",
    "1. **Podstawowe statystyki** – Oblicza podstawowe statystyki, takie jak średnia, mediana, min, max, wariancja, odchylenie standardowe itp. dla każdej kolumny.\n",
    "2. **Rozkład wartości** – Pokazuje rozkład wartości liczbowych i kategorycznych w każdej kolumnie, w tym histogramy i wykresy częstości.\n",
    "3. **Braki danych** – Wykrywa i raportuje brakujące wartości w kolumnach oraz pokazuje ich rozkład.\n",
    "4. **Korelacje** – Analizuje korelacje między kolumnami, dostarczając informacje na temat możliwych zależności.\n",
    "5. **Wykrywanie nieprawidłowości** – Identyfikuje potencjalne problemy, takie jak wartości odstające (outliers), duplikaty, oraz nietypowe wartości.\n",
    "6. **Podsumowanie danych** – Zawiera ogólną analizę i podsumowanie zbioru danych, co pozwala szybko zrozumieć strukturę i właściwości danych.\n",
    "\n",
    "Użycie **ydata-profiling** jest bardzo proste, wystarczy kilka wierszy kodu, aby wygenerować raport z obiektu `DataFrame`:\n",
    "\n",
    "```python\n",
    "import pandas as pd\n",
    "from ydata_profiling import ProfileReport\n",
    "\n",
    "# Wczytanie danych\n",
    "df = pd.read_csv('data.csv')\n",
    "\n",
    "# Tworzenie raportu\n",
    "profile = ProfileReport(df, title=\"Raport Profilowania Danych\")\n",
    "profile.to_file(\"raport.html\")\n",
    "```"
   ]
  },
  {
   "cell_type": "code",
   "execution_count": null,
   "metadata": {},
   "outputs": [],
   "source": []
  }
 ],
 "metadata": {
  "kernelspec": {
   "display_name": "wait-proj-template",
   "language": "python",
   "name": "python3"
  },
  "language_info": {
   "codemirror_mode": {
    "name": "ipython",
    "version": 3
   },
   "file_extension": ".py",
   "mimetype": "text/x-python",
   "name": "python",
   "nbconvert_exporter": "python",
   "pygments_lexer": "ipython3",
   "version": "3.11.9"
  }
 },
 "nbformat": 4,
 "nbformat_minor": 2
}
